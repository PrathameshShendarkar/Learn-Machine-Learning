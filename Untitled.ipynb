{
  "nbformat": 4,
  "nbformat_minor": 0,
  "metadata": {
    "colab": {
      "name": "Untitled",
      "version": "0.3.2",
      "provenance": [],
      "collapsed_sections": []
    },
    "kernelspec": {
      "name": "python3",
      "display_name": "Python 3"
    }
  },
  "cells": [
    {
      "metadata": {
        "id": "dYhzXklPpuKv",
        "colab_type": "text"
      },
      "cell_type": "markdown",
      "source": [
        "\n",
        "Basic Operations of Numpy\n",
        "---"
      ]
    },
    {
      "metadata": {
        "id": "nR_5zwqfW4st",
        "colab_type": "code",
        "colab": {
          "base_uri": "https://localhost:8080/",
          "height": 54
        },
        "outputId": "fedca6c3-6785-472a-d8cd-7271666945b6"
      },
      "cell_type": "code",
      "source": [
        "import numpy as np\n",
        "\n",
        "# To create array range from 0 to 4\n",
        "x = np.arange(5)\n",
        "print(x)\n",
        "\n",
        "# We could also create array in this form\n",
        "y = np.arange(1,10,2)\n",
        "y"
      ],
      "execution_count": 1,
      "outputs": [
        {
          "output_type": "stream",
          "text": [
            "[0 1 2 3 4]\n"
          ],
          "name": "stdout"
        },
        {
          "output_type": "execute_result",
          "data": {
            "text/plain": [
              "array([1, 3, 5, 7, 9])"
            ]
          },
          "metadata": {
            "tags": []
          },
          "execution_count": 1
        }
      ]
    },
    {
      "metadata": {
        "id": "aW0qz5FsYSWC",
        "colab_type": "code",
        "colab": {
          "base_uri": "https://localhost:8080/",
          "height": 108
        },
        "outputId": "0d64a86c-cefd-4a3b-bce3-64e7ba02fe77"
      },
      "cell_type": "code",
      "source": [
        "# To create a 2d array\n",
        "b = np.array([[2, 4, 6], [6, 8, 10]], np.int32)\n",
        "print(b)\n",
        "\n",
        "# Dimensions checking\n",
        "print(b.ndim)\n",
        "\n",
        "#Shape Checking\n",
        "print(b.shape)\n",
        "\n",
        "#Length Checking\n",
        "print(len(b))"
      ],
      "execution_count": 13,
      "outputs": [
        {
          "output_type": "stream",
          "text": [
            "[[ 2  4  6]\n",
            " [ 6  8 10]]\n",
            "2\n",
            "(2, 3)\n",
            "2\n"
          ],
          "name": "stdout"
        }
      ]
    },
    {
      "metadata": {
        "id": "9_WqrooYYUKq",
        "colab_type": "code",
        "colab": {
          "base_uri": "https://localhost:8080/",
          "height": 35
        },
        "outputId": "1b6e5224-5dac-4e1e-ce28-b073e1ec3aee"
      },
      "cell_type": "code",
      "source": [
        "# using linspace\n",
        "a = np.linspace(0,10,5)\n",
        "a"
      ],
      "execution_count": 5,
      "outputs": [
        {
          "output_type": "execute_result",
          "data": {
            "text/plain": [
              "array([ 0. ,  2.5,  5. ,  7.5, 10. ])"
            ]
          },
          "metadata": {
            "tags": []
          },
          "execution_count": 5
        }
      ]
    },
    {
      "metadata": {
        "id": "zQmzj-IcYUI-",
        "colab_type": "code",
        "colab": {
          "base_uri": "https://localhost:8080/",
          "height": 126
        },
        "outputId": "1522e5eb-c3b7-4d6c-e767-05033c65050f"
      },
      "cell_type": "code",
      "source": [
        "# Common Arrays\n",
        "\n",
        "# Creation of singular arrays\n",
        "a = np.ones((3,3))\n",
        "print(a)\n",
        "\n",
        "# Creation of Diagonal Matrix\n",
        "b = np.eye(3,3)\n",
        "print(b)"
      ],
      "execution_count": 10,
      "outputs": [
        {
          "output_type": "stream",
          "text": [
            "[[1. 1. 1.]\n",
            " [1. 1. 1.]\n",
            " [1. 1. 1.]]\n",
            "[[1. 0. 0.]\n",
            " [0. 1. 0.]\n",
            " [0. 0. 1.]]\n"
          ],
          "name": "stdout"
        }
      ]
    },
    {
      "metadata": {
        "id": "0R0g55UpcEwZ",
        "colab_type": "code",
        "colab": {
          "base_uri": "https://localhost:8080/",
          "height": 90
        },
        "outputId": "f4ac740f-7ac3-41f8-8160-ecd1a30a2980"
      },
      "cell_type": "code",
      "source": [
        "# Creation of array using diag function\n",
        "z = np.diag([1,2,3,4])\n",
        "z"
      ],
      "execution_count": 11,
      "outputs": [
        {
          "output_type": "execute_result",
          "data": {
            "text/plain": [
              "array([[1, 0, 0, 0],\n",
              "       [0, 2, 0, 0],\n",
              "       [0, 0, 3, 0],\n",
              "       [0, 0, 0, 4]])"
            ]
          },
          "metadata": {
            "tags": []
          },
          "execution_count": 11
        }
      ]
    },
    {
      "metadata": {
        "id": "rinc9Hm3cYhg",
        "colab_type": "code",
        "colab": {
          "base_uri": "https://localhost:8080/",
          "height": 54
        },
        "cellView": "code",
        "outputId": "be25b87f-cb34-4a3f-a83e-bcc7228b836d"
      },
      "cell_type": "code",
      "source": [
        "# Creation of Random Array\n",
        "\n",
        "ran = np.random.rand(4) #Uniform Distribution\n",
        "print(ran)\n",
        "\n",
        "ranx = np.random.randn(4) #Normal Distribution\n",
        "print(ranx)"
      ],
      "execution_count": 28,
      "outputs": [
        {
          "output_type": "stream",
          "text": [
            "[0.34687521 0.43434576 0.309722   0.40707335]\n",
            "[ 1.39303724 -2.27289136  0.17667956  0.96624263]\n"
          ],
          "name": "stdout"
        }
      ]
    },
    {
      "metadata": {
        "id": "qPIBqSDJdczl",
        "colab_type": "code",
        "colab": {
          "base_uri": "https://localhost:8080/",
          "height": 108
        },
        "outputId": "90e3f567-73d2-4032-e2bb-1bd3e17802a0"
      },
      "cell_type": "code",
      "source": [
        "# Accessing, Assigning and Slicing\n",
        "\n",
        "# 1. Acessing\n",
        "a = np.array([1,2,3,4,5])\n",
        "print(a[2])\n",
        "\n",
        "# 2. Assigning\n",
        "a[1] = 0\n",
        "print(a)\n",
        "\n",
        "# 3. Slicing\n",
        "b = a[1::2] # From index 1 slice till last element with step size of 2\n",
        "print(b)"
      ],
      "execution_count": 41,
      "outputs": [
        {
          "output_type": "stream",
          "text": [
            "3\n",
            "[1 0 3 4 5]\n",
            "[0 4]\n",
            "True\n",
            "False\n"
          ],
          "name": "stdout"
        }
      ]
    },
    {
      "metadata": {
        "id": "csJPm9nRnKiY",
        "colab_type": "code",
        "colab": {
          "base_uri": "https://localhost:8080/",
          "height": 72
        },
        "outputId": "8f2bafc5-07c5-43ff-8f5f-458ec30c0985"
      },
      "cell_type": "code",
      "source": [
        "# Views and Copies\n",
        "# Check if two variables share same memory or not\n",
        "\n",
        "# Here a and b are from slicing content\n",
        "print(np.shares_memory(a,b)) # It is basically stating that a nd b shares same memory\n",
        "\n",
        "c = b.copy()\n",
        "print(np.shares_memory(b,c))\n",
        "print(np.shares_memory(a,c))"
      ],
      "execution_count": 47,
      "outputs": [
        {
          "output_type": "stream",
          "text": [
            "True\n",
            "False\n",
            "False\n"
          ],
          "name": "stdout"
        }
      ]
    },
    {
      "metadata": {
        "id": "wjuKzLpCnuJF",
        "colab_type": "code",
        "colab": {
          "base_uri": "https://localhost:8080/",
          "height": 35
        },
        "outputId": "3f8d9d8c-a54b-483b-b8b9-de16ef3660c6"
      },
      "cell_type": "code",
      "source": [
        "# Fancing Arrays\n",
        "# You could create array of random numbers and as many as you want\n",
        "\n",
        "a = np.random.randint(0,10,13) # start from 0 till 10 and create 13 random integers\n",
        "a"
      ],
      "execution_count": 48,
      "outputs": [
        {
          "output_type": "execute_result",
          "data": {
            "text/plain": [
              "array([8, 3, 9, 4, 6, 6, 1, 9, 4, 9, 4, 7, 5])"
            ]
          },
          "metadata": {
            "tags": []
          },
          "execution_count": 48
        }
      ]
    },
    {
      "metadata": {
        "id": "k5rOcECGoONW",
        "colab_type": "code",
        "colab": {
          "base_uri": "https://localhost:8080/",
          "height": 92
        },
        "outputId": "c64a05f8-9554-4d72-8ca4-4d595b57a573"
      },
      "cell_type": "code",
      "source": [
        "# Extracting the array with the condition\n",
        "\n",
        "mask = [a%2 == 0] # It is the same as condition\n",
        "extract_from_a = a[mask] # Applying condition on arrays\n",
        "print(extract_from_a)"
      ],
      "execution_count": 51,
      "outputs": [
        {
          "output_type": "stream",
          "text": [
            "[8 4 6 6 4 4]\n"
          ],
          "name": "stdout"
        },
        {
          "output_type": "stream",
          "text": [
            "C:\\ProgramData\\Anaconda3\\lib\\site-packages\\ipykernel_launcher.py:3: FutureWarning: Using a non-tuple sequence for multidimensional indexing is deprecated; use `arr[tuple(seq)]` instead of `arr[seq]`. In the future this will be interpreted as an array index, `arr[np.array(seq)]`, which will result either in an error or a different result.\n",
            "  This is separate from the ipykernel package so we can avoid doing imports until\n"
          ],
          "name": "stderr"
        }
      ]
    },
    {
      "metadata": {
        "id": "Yv-kb_hpo-bA",
        "colab_type": "code",
        "colab": {
          "base_uri": "https://localhost:8080/",
          "height": 35
        },
        "outputId": "dbfd9d2b-4d3f-4d29-be9e-f991df720d25"
      },
      "cell_type": "code",
      "source": [
        "# Get specific positional elements of array a\n",
        "a = np.arange(10)\n",
        "a[[2,3,4,2]]"
      ],
      "execution_count": 61,
      "outputs": [
        {
          "output_type": "execute_result",
          "data": {
            "text/plain": [
              "array([2, 3, 4, 2])"
            ]
          },
          "metadata": {
            "tags": []
          },
          "execution_count": 61
        }
      ]
    },
    {
      "metadata": {
        "id": "Sw9BQmfwqOSP",
        "colab_type": "text"
      },
      "cell_type": "markdown",
      "source": [
        "# **Numerical Operations**"
      ]
    },
    {
      "metadata": {
        "id": "hm1F0RadoOK3",
        "colab_type": "code",
        "colab": {}
      },
      "cell_type": "code",
      "source": [
        ""
      ],
      "execution_count": 0,
      "outputs": []
    }
  ]
}